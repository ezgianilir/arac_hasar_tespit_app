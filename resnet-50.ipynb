{
 "cells": [
  {
   "cell_type": "code",
   "execution_count": 2,
   "id": "a855b192",
   "metadata": {},
   "outputs": [],
   "source": [
    "import tensorflow as tf\n",
    "from tensorflow.keras.layers import Input, Conv2D, MaxPooling2D, Flatten, Dense, Dropout\n",
    "from tensorflow.keras.models import Model\n",
    "from tensorflow.keras.preprocessing.image import ImageDataGenerator\n",
    "from tensorflow.keras.callbacks import EarlyStopping, ModelCheckpoint"
   ]
  },
  {
   "cell_type": "code",
   "execution_count": 3,
   "id": "7174aa01",
   "metadata": {},
   "outputs": [],
   "source": [
    "train_data_dir = 'dataset/train'\n",
    "validation_data_dir = 'dataset/validation'\n",
    "img_width, img_height = 224, 224\n",
    "num_classes = 2 # \"Hasarlı\" ve \"Hasarsız\" sınıfları için\n"
   ]
  },
  {
   "cell_type": "code",
   "execution_count": 4,
   "id": "40d44809",
   "metadata": {},
   "outputs": [
    {
     "name": "stdout",
     "output_type": "stream",
     "text": [
      "Found 1840 images belonging to 2 classes.\n",
      "Found 460 images belonging to 2 classes.\n"
     ]
    }
   ],
   "source": [
    "train_datagen = ImageDataGenerator(\n",
    "    rescale=1./255,\n",
    "    shear_range=0.2,\n",
    "    zoom_range=0.2,\n",
    "    horizontal_flip=True,\n",
    "    width_shift_range=0.1,\n",
    "    height_shift_range=0.1\n",
    ")\n",
    "\n",
    "test_datagen = ImageDataGenerator(rescale=1./255)\n",
    "\n",
    "train_generator = train_datagen.flow_from_directory(\n",
    "    train_data_dir,\n",
    "    target_size=(img_width, img_height),\n",
    "    batch_size=32,\n",
    "    class_mode='categorical')\n",
    "\n",
    "validation_generator = test_datagen.flow_from_directory(\n",
    "    validation_data_dir,\n",
    "    target_size=(img_width, img_height),\n",
    "    batch_size=32,\n",
    "    class_mode='categorical')"
   ]
  },
  {
   "cell_type": "code",
   "execution_count": 5,
   "id": "7c630b39",
   "metadata": {},
   "outputs": [
    {
     "name": "stdout",
     "output_type": "stream",
     "text": [
      "Found 1840 images belonging to 2 classes.\n",
      "Found 460 images belonging to 2 classes.\n"
     ]
    }
   ],
   "source": [
    "train_datagen = ImageDataGenerator(\n",
    "    rescale=1./255,\n",
    "    shear_range=0.2,\n",
    "    zoom_range=0.2,\n",
    "    horizontal_flip=True,\n",
    "    width_shift_range=0.1,\n",
    "    height_shift_range=0.1\n",
    ")\n",
    "\n",
    "test_datagen = ImageDataGenerator(rescale=1./255)\n",
    "\n",
    "train_generator = train_datagen.flow_from_directory(\n",
    "    train_data_dir,\n",
    "    target_size=(img_width, img_height),\n",
    "    batch_size=32,\n",
    "    class_mode='categorical'\n",
    ")\n",
    "\n",
    "validation_generator = test_datagen.flow_from_directory(\n",
    "    validation_data_dir,\n",
    "    target_size=(img_width, img_height),\n",
    "    batch_size=32,\n",
    "    class_mode='categorical'\n",
    ")\n"
   ]
  },
  {
   "cell_type": "code",
   "execution_count": 6,
   "id": "edc67fcd",
   "metadata": {},
   "outputs": [],
   "source": [
    "from tensorflow.keras.applications import ResNet50\n",
    "from keras.models import Sequential\n",
    "\n",
    "# model tanımlama\n",
    "model = Sequential()\n",
    "model.add(ResNet50(include_top=False, pooling='avg', weights='imagenet'))\n",
    "model.add(Dense(2, activation='softmax'))\n",
    "\n",
    "# compile model\n",
    "model.layers[0].trainable = False\n",
    "model.compile(optimizer='adam', loss='categorical_crossentropy', metrics=['accuracy'])\n"
   ]
  },
  {
   "cell_type": "code",
   "execution_count": 7,
   "id": "63d213cc",
   "metadata": {},
   "outputs": [],
   "source": [
    "base_model = ResNet50(weights='imagenet', include_top=False, input_shape=(img_width, img_height, 3))\n",
    "\n",
    "for layer in base_model.layers:\n",
    "    layer.trainable = False\n",
    "\n",
    "x = base_model.output\n",
    "x = Flatten()(x)\n",
    "x = Dense(1024, activation='relu')(x)\n",
    "x = Dropout(0.5)(x)\n",
    "x = Dense(512, activation='relu')(x)\n",
    "x = Dropout(0.5)(x)\n",
    "x = Dense(num_classes, activation='softmax')(x)\n",
    "\n",
    "model = Model(inputs=base_model.input, outputs=x)\n",
    "\n",
    "model.compile(loss='categorical_crossentropy', optimizer='adam', metrics=['accuracy'])\n"
   ]
  },
  {
   "cell_type": "code",
   "execution_count": 8,
   "id": "b6a9a298",
   "metadata": {
    "scrolled": true
   },
   "outputs": [
    {
     "name": "stdout",
     "output_type": "stream",
     "text": [
      "Epoch 1/10\n",
      "28/28 [==============================] - 73s 2s/step - loss: 10.2467 - accuracy: 0.5250 - val_loss: 4.4822 - val_accuracy: 0.5089\n",
      "Epoch 2/10\n",
      "28/28 [==============================] - 68s 2s/step - loss: 4.2244 - accuracy: 0.4777 - val_loss: 0.7169 - val_accuracy: 0.5268\n",
      "Epoch 3/10\n",
      "28/28 [==============================] - 66s 2s/step - loss: 1.2307 - accuracy: 0.5156 - val_loss: 0.6816 - val_accuracy: 0.5357\n",
      "Epoch 4/10\n",
      "28/28 [==============================] - 66s 2s/step - loss: 0.7055 - accuracy: 0.4900 - val_loss: 0.6887 - val_accuracy: 0.5223\n",
      "Epoch 5/10\n",
      "28/28 [==============================] - 65s 2s/step - loss: 0.7158 - accuracy: 0.5045 - val_loss: 0.6865 - val_accuracy: 0.5089\n",
      "Epoch 6/10\n",
      "28/28 [==============================] - 66s 2s/step - loss: 0.7044 - accuracy: 0.5089 - val_loss: 0.6918 - val_accuracy: 0.5089\n",
      "Epoch 7/10\n",
      "28/28 [==============================] - 67s 2s/step - loss: 0.7029 - accuracy: 0.5234 - val_loss: 0.6811 - val_accuracy: 0.5089\n",
      "Epoch 8/10\n",
      "28/28 [==============================] - 66s 2s/step - loss: 0.7042 - accuracy: 0.5312 - val_loss: 0.6895 - val_accuracy: 0.5446\n",
      "Epoch 9/10\n",
      "28/28 [==============================] - 66s 2s/step - loss: 0.6971 - accuracy: 0.5000 - val_loss: 0.6930 - val_accuracy: 0.5089\n",
      "Epoch 10/10\n",
      "28/28 [==============================] - 66s 2s/step - loss: 0.6934 - accuracy: 0.4989 - val_loss: 0.6925 - val_accuracy: 0.5268\n"
     ]
    }
   ],
   "source": [
    "history = model.fit(\n",
    "    train_generator,\n",
    "    steps_per_epoch=28, #train_data_size/batch\n",
    "    epochs=100,\n",
    "    validation_data=validation_generator,\n",
    "    validation_steps=7, #validation_data_size/batch\n",
    ")\n",
    "model.save('model.h5')\n"
   ]
  },
  {
   "cell_type": "code",
   "execution_count": 9,
   "id": "f36b5f16",
   "metadata": {},
   "outputs": [],
   "source": [
    "from keras.models import load_model\n",
    "\n",
    "model = load_model('model.h5')"
   ]
  },
  {
   "cell_type": "code",
   "execution_count": 10,
   "id": "aabc9b98",
   "metadata": {},
   "outputs": [],
   "source": [
    "from tensorflow.keras.preprocessing import image\n",
    "import numpy as np\n",
    "\n",
    "img_path = 'dataset/test/28.jpg'\n",
    "img = image.load_img(img_path, target_size=(224, 224))\n",
    "x = image.img_to_array(img)\n",
    "x = np.expand_dims(x, axis=0)"
   ]
  },
  {
   "cell_type": "code",
   "execution_count": 11,
   "id": "78f6dc15",
   "metadata": {},
   "outputs": [
    {
     "name": "stdout",
     "output_type": "stream",
     "text": [
      "1/1 [==============================] - 1s 679ms/step\n",
      "Hasarlı\n"
     ]
    }
   ],
   "source": [
    "preds = model.predict(x)\n",
    "if preds[0][0] > preds[0][1]:\n",
    "    print(\"Hasarlı\")\n",
    "else:\n",
    "    print(\"Değil\")\n"
   ]
  },
  {
   "cell_type": "code",
   "execution_count": null,
   "id": "8f248def",
   "metadata": {},
   "outputs": [],
   "source": []
  }
 ],
 "metadata": {
  "kernelspec": {
   "display_name": "Python 3 (ipykernel)",
   "language": "python",
   "name": "python3"
  },
  "language_info": {
   "codemirror_mode": {
    "name": "ipython",
    "version": 3
   },
   "file_extension": ".py",
   "mimetype": "text/x-python",
   "name": "python",
   "nbconvert_exporter": "python",
   "pygments_lexer": "ipython3",
   "version": "3.11.2"
  }
 },
 "nbformat": 4,
 "nbformat_minor": 5
}
